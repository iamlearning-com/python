{
 "cells": [
  {
   "cell_type": "code",
   "execution_count": 14,
   "id": "511e267a",
   "metadata": {},
   "outputs": [],
   "source": [
    "import numpy as np"
   ]
  },
  {
   "cell_type": "code",
   "execution_count": 15,
   "id": "510df95f",
   "metadata": {},
   "outputs": [],
   "source": [
    "hours = [7, 10, 5, 10, 6]\n",
    "scores = [80, 56, 64, 85, 70]"
   ]
  },
  {
   "cell_type": "code",
   "execution_count": 16,
   "id": "3e33a9be",
   "metadata": {},
   "outputs": [
    {
     "name": "stdout",
     "output_type": "stream",
     "text": [
      "7.6\n",
      "71.0\n"
     ]
    }
   ],
   "source": [
    "def mean(values):\n",
    "    result = np.array(values)\n",
    "    return np.mean(result)\n",
    "\n",
    "\n",
    "def standard_deviation(num):\n",
    "    result_std = np.array(num)\n",
    "    return np.std(result_std)"
   ]
  },
  {
   "cell_type": "code",
   "execution_count": 37,
   "id": "a0559032",
   "metadata": {},
   "outputs": [
    {
     "name": "stdout",
     "output_type": "stream",
     "text": [
      "Mean Hours: 7.6\n",
      "Sd Hours: 2.0591260281974\n",
      "\n",
      "Mean Scores: 71.0\n",
      "Sd Scores 10.507140429250958\n"
     ]
    }
   ],
   "source": [
    "# Hours\n",
    "mean_hours = mean(hours)\n",
    "std_hours = standard_deviation(hours)\n",
    "\n",
    "print(\"Mean Hours:\", mean_hours)\n",
    "print(\"Sd Hours:\", std_hours)\n",
    "\n",
    "print()\n",
    "# Scores\n",
    "mean_scores = mean(scores)\n",
    "std_scores = standard_deviation(scores)\n",
    "\n",
    "print(\"Mean Scores:\", mean_scores)\n",
    "print(\"Sd Scores\", std_scores)"
   ]
  },
  {
   "cell_type": "code",
   "execution_count": 32,
   "id": "19560e94",
   "metadata": {},
   "outputs": [
    {
     "name": "stdout",
     "output_type": "stream",
     "text": [
      "[-0.291, 1.166, -1.263, 1.166, -0.777]\n",
      "[0.857, -1.428, -0.666, 1.332, -0.095]\n"
     ]
    }
   ],
   "source": [
    "def z_score(num, mean, std):\n",
    "    return [round((i-mean)/std,3) for i in num]\n",
    "\n",
    "z_hours = z_score(hours, mean_hours, std_hours)\n",
    "z_scores = z_score(scores, mean_scores, std_scores)\n",
    "\n",
    "print(z_hours)\n",
    "print(z_scores)"
   ]
  },
  {
   "cell_type": "code",
   "execution_count": 38,
   "id": "aae9c839",
   "metadata": {},
   "outputs": [
    {
     "name": "stdout",
     "output_type": "stream",
     "text": [
      "0.13849999999999993\n"
     ]
    }
   ],
   "source": [
    "def pearson_r(zx, zy):\n",
    "    numerators = []\n",
    "    for xi, yi in zip(zx, zy):\n",
    "        numerators.append(round(xi*yi, 3))\n",
    "    \n",
    "    return sum(numerators) / (len(zx)-1)\n",
    "#     return numerators\n",
    "\n",
    "r_xy = pearson_r(z_hours, z_scores)\n",
    "\n",
    "print(r_xy)"
   ]
  },
  {
   "cell_type": "code",
   "execution_count": null,
   "id": "1d2dc995",
   "metadata": {},
   "outputs": [],
   "source": []
  }
 ],
 "metadata": {
  "kernelspec": {
   "display_name": "Python 3 (ipykernel)",
   "language": "python",
   "name": "python3"
  },
  "language_info": {
   "codemirror_mode": {
    "name": "ipython",
    "version": 3
   },
   "file_extension": ".py",
   "mimetype": "text/x-python",
   "name": "python",
   "nbconvert_exporter": "python",
   "pygments_lexer": "ipython3",
   "version": "3.11.5"
  }
 },
 "nbformat": 4,
 "nbformat_minor": 5
}
