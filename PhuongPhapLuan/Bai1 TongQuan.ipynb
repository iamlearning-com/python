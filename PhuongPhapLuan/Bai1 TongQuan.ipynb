{
 "cells": [
  {
   "cell_type": "markdown",
   "id": "d60941b6",
   "metadata": {},
   "source": [
    "# Phương pháp luận là gì ?\n"
   ]
  },
  {
   "cell_type": "markdown",
   "id": "2c05845b",
   "metadata": {},
   "source": [
    "## 1. Tổng quan về phương pháp luận\n",
    "\n",
    "Phương pháp luận này được xây dựng thành một quy trình các công việc giúp Data Scientist xác định rằng mình đang đi đúng hướng.\n",
    "\n",
    "<hr/>\n",
    "Nội dung quy trình được vạch ra nhờ trả lời 10 câu hỏi cơ bản dựa vào 3 phần chính:"
   ]
  },
  {
   "cell_type": "markdown",
   "id": "dfa07b23",
   "metadata": {},
   "source": [
    "<b>Từ bài toán đến hướng tiếp cận giải quyết (xác định vấn đề, xác định cách tiếp cận được sử dụng:</b>\n",
    "\n",
    "1. Vấn đề mà bạn đang cố gắng giải quyết là gì?\n",
    "\n",
    "2. Làm thế nào bạn có thể sử dụng dữ liệu để trả lời câu hỏi?\n",
    "\n",
    "<b>Làm việc với dữ liệu (dùng để tổ chức dữ liệu):</b>\n",
    "\n",
    "3. Bạn cần dữ liệu nào để trả lời câu hỏi?\n",
    "\n",
    "4. Dữ liệu bạn cần đến từ đâu (xác định tất cả các nguồn) và bạn sẽ lấy nó như thế nào?\n",
    "\n",
    "5. Dữ liệu bạn thu thập có giải quyết cho vấn đề cần giải quyết không?\n",
    "\n",
    "6. Cần thêm việc gì để thao tác và làm việc với dữ liệu?\n",
    "\n",
    "<b>Chuyển tiếp câu trả lời (xác nhận dữ liệu và phương pháp luận được thiết kế):</b>\n",
    "\n",
    "7. Dữ liệu có thể được trực quan hóa theo cách nào giải quyết câu trả lời được yêu cầu?\n",
    "\n",
    "8. Mô hình được sử dụng có thực sự trả lời được câu hỏi ban đầu hay không? Có cần điều chỉnh gì nữa hay không?\n",
    "\n",
    "9. Bạn có thể đẩy mô hình của bạn vào thực tiễn hay không?\n",
    "\n",
    "10. Bạn có thể nhận được những phản hồi mang tính xây dựng để trả lời câu hỏi không?\n",
    "\n",
    "<img src=\"./DSP301x_L4_Hinh1.png\" alt=\"Hình ảnh sơ đồ\">\n",
    "\n",
    "<hr/>"
   ]
  }
 ],
 "metadata": {
  "kernelspec": {
   "display_name": "Python 3 (ipykernel)",
   "language": "python",
   "name": "python3"
  },
  "language_info": {
   "codemirror_mode": {
    "name": "ipython",
    "version": 3
   },
   "file_extension": ".py",
   "mimetype": "text/x-python",
   "name": "python",
   "nbconvert_exporter": "python",
   "pygments_lexer": "ipython3",
   "version": "3.11.5"
  }
 },
 "nbformat": 4,
 "nbformat_minor": 5
}
