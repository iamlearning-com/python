{
 "cells": [
  {
   "cell_type": "markdown",
   "id": "85b392a9",
   "metadata": {},
   "source": [
    "## 1. Từ bài toán đến hướng tiếp cận giải quyết"
   ]
  },
  {
   "cell_type": "markdown",
   "id": "d77fa648",
   "metadata": {},
   "source": [
    "<b>Business Understanding (Hiểu về kinh doanh)</b>\n",
    "\n",
    "Hãy thử hình dung, bạn dành rất nhiều thời gian để nghiên cứu và thu thập dữ liệu, xây dụng mô hình. Khi gần hoàn thành công việc, bạn nhận ra những điều mình vừa làm không đúng với ý định của người đặt ra vấn đề <b>(nói dễ hiểu hơn là nhận ra mình làm lạc đề)</b>. Do đó bạn cần hiểu được ý định ban đầu vấn đề một cách rõ ràng. Một câu hỏi được làm rõ là rất quan trong, giúp tránh mất thời gian vô ích.\n",
    "\n",
    "Trước khi bắt đầu làm, hãy cân nhắc rằng bạn đã hiểu rõ mục đích của người đặt ra câu hỏi. Khu mục đích được làm rõ, hãy bắt đầu tìm ra các mục tiêu để hỗ trợ cho việc hoàn thành mục đích. <br>\n",
    "Chia nhỏ mục tiêu, xác định vấn để cần giải quyết là gì, những ai cần tham gia vào cuộc thảo luận để trả lời câu hỏi"
   ]
  },
  {
   "cell_type": "markdown",
   "id": "834e0b5e",
   "metadata": {},
   "source": [
    "<b>Analytic approach (Phương pháp phân tích)</b>\n",
    "\n",
    "Khi vấn đề cần giải quyết được xác định, Phương pháp phân tích thích hợp để giải quyết vấn đề được lựa chọn. Điều này có nghĩa là xác định loại mẫu nào sẽ cần thiết để giải quyết câu hỏi hiệu quả nhất.\n",
    "\n",
    "Nếu câu hỏi là xác định xác suất của một hành động, có thể sử dụng một mô hình dự đoán (predictive model).</br>\n",
    "Nếu câu hỏi là để chỉ ra các mỗi quan hệ, có thể sử dụng mô hình mô tả (descriptive model).</br>\n",
    "Nếu câu hỏi là có hoặc không, có thể sự dụng mô hình phân loại (classification model).</br>\n",
    "Học máy có thể được sử dụng để xác định các mối quan hệ và xu hướng trong dữ liệu mà có thể không thể truy cập hoặc xác định được. Do đó học máy cũng có thể được sử dụng trong Phương pháp phân tích.</br>\n",
    "Trong trường hợp câu hỏi là tìm hiểu về hành vi của con người, một hướng xử lý thích hợp là sử dụng Clustering Association."
   ]
  }
 ],
 "metadata": {
  "kernelspec": {
   "display_name": "Python 3 (ipykernel)",
   "language": "python",
   "name": "python3"
  },
  "language_info": {
   "codemirror_mode": {
    "name": "ipython",
    "version": 3
   },
   "file_extension": ".py",
   "mimetype": "text/x-python",
   "name": "python",
   "nbconvert_exporter": "python",
   "pygments_lexer": "ipython3",
   "version": "3.11.5"
  }
 },
 "nbformat": 4,
 "nbformat_minor": 5
}
