{
 "cells": [
  {
   "attachments": {},
   "cell_type": "markdown",
   "id": "6a5490eb",
   "metadata": {},
   "source": [
    "## Bài tập phương sai và trung bình nhiều trọng số\n",
    "\n",
    "https://1900.edu.vn/60-bai-tap-hay-nhat-ve-phuong-sai-va-do-lech-chuan-co-dap-an-2024-19350\n",
    "\n",
    "### Công thức tính trung bình có nhiều trọng số:\n",
    "\n",
    "$$ \\overline{x} = \\frac{\\sum{x_i * w_i}} {n} $$\n",
    "\n",
    "### Công thức tính độ lệch chuẩn có nhiều trọng số:\n",
    "- Nếu bạn muốn ước lượng độ lệch chuẩn cho tổng thể dựa trên mẫu, bạn có thể sử dụng công thức sau:\n",
    "$$ sd =\\sqrt{\\frac{\\sum{(x_i - \\overline{x})^2 * w_i}} {n - 1}} $$ <br/>\n",
    "\n",
    "- Nếu bạn chỉ muốn tìm độ lệch chuẩn cho mẫu, bạn chỉ cần chia cho n là đủ vì việc sử dụng công thức này cũng không ảnh hưởng đến kết quả của bạn:\n",
    "$$ sd =\\sqrt{\\frac{\\sum{(x_i - \\overline{x})^2 * w_i}} {n}} $$"
   ]
  },
  {
   "cell_type": "markdown",
   "id": "3fee29ce",
   "metadata": {},
   "source": [
    "<b>Bài 1.</b> Tính trung bình và độ lệch chuẩn về tần số xuất hiện của nhiệt độ trung bình của tháng 2 tại thành phố Vinh từ năm 1961 đến năm 1990. Bảng phân bố tần số và tần suất ghép lớp cho nhiệt độ trung bình của tháng 2 tại thành phố Vinh từ năm 1961 đến năm 1990 được cho như sau:\n",
    "\n",
    "| Lớp nhiệt độ (℃) | Tần số |\n",
    "| --- | --- |\n",
    "| 12 - 14 | 1 |\n",
    "| 14 - 16 | 3 |\n",
    "| 16 - 18 | 12 |\n",
    "| 18 - 20 | 9 |\n",
    "| 20 - 22 | 5 |\n",
    "| Tổng | 30 |"
   ]
  },
  {
   "cell_type": "code",
   "execution_count": 1,
   "id": "647c6d6e",
   "metadata": {},
   "outputs": [],
   "source": [
    "x = '12-14, 14-16, 16-18, 18-20, 20-22'\n",
    "y = [1, 3, 12, 9, 5]"
   ]
  },
  {
   "cell_type": "code",
   "execution_count": 2,
   "id": "1ac220dd",
   "metadata": {},
   "outputs": [
    {
     "name": "stdout",
     "output_type": "stream",
     "text": [
      "[13.0, 15.0, 17.0, 19.0, 21.0]\n"
     ]
    }
   ],
   "source": [
    "fill_terx = x.split(', ')\n",
    "nhiet_do = []\n",
    "\n",
    "for i in fill_terx:\n",
    "    numbers = i.split('-')\n",
    "    total = int(numbers[0]) + int(numbers[1])\n",
    "    nhiet_do.append(total/2)\n",
    "    \n",
    "print(nhiet_do)\n",
    "\n",
    "# nhietdo = [sum(map(int, i.split('-'))) / 2 for i in x.split(', ')]"
   ]
  },
  {
   "cell_type": "code",
   "execution_count": 3,
   "id": "7cc533f0",
   "metadata": {},
   "outputs": [
    {
     "name": "stdout",
     "output_type": "stream",
     "text": [
      "17.93\n"
     ]
    }
   ],
   "source": [
    "# Tính trung bình có nhiều trọng số\n",
    "def mean(arr, freq):\n",
    "    result = 0\n",
    "    for xi, wi in zip(arr, freq):\n",
    "        result += xi * wi\n",
    "    \n",
    "    return round(result / sum(freq), 2)\n",
    "\n",
    "x_bar = mean(nhiet_do, y)\n",
    "\n",
    "print(x_bar)"
   ]
  },
  {
   "cell_type": "code",
   "execution_count": 4,
   "id": "888b8978",
   "metadata": {},
   "outputs": [
    {
     "name": "stdout",
     "output_type": "stream",
     "text": [
      "2.02\n"
     ]
    }
   ],
   "source": [
    "# Tính độ lệch chuẩn có nhiều trọng số dựa trên mẫu đưa ra kết luận cho tổng thể\n",
    "\n",
    "def standard_devietion(arr, freq, mean):\n",
    "    result = 0\n",
    "    for xi, wi in zip(arr, freq):\n",
    "        result += pow(xi - mean, 2) * wi\n",
    "        \n",
    "    n = sum(freq)\n",
    "    return round((result / (n - 1)) ** 0.5, 2)\n",
    "\n",
    "sd = standard_devietion(nhiet_do, y, x_bar)\n",
    "\n",
    "print(sd)"
   ]
  }
 ],
 "metadata": {
  "kernelspec": {
   "display_name": "Python 3 (ipykernel)",
   "language": "python",
   "name": "python3"
  },
  "language_info": {
   "codemirror_mode": {
    "name": "ipython",
    "version": 3
   },
   "file_extension": ".py",
   "mimetype": "text/x-python",
   "name": "python",
   "nbconvert_exporter": "python",
   "pygments_lexer": "ipython3",
   "version": "3.11.5"
  }
 },
 "nbformat": 4,
 "nbformat_minor": 5
}
