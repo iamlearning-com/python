{
 "cells": [
  {
   "cell_type": "markdown",
   "id": "16bee4fb",
   "metadata": {},
   "source": [
    "# Khoảng Tứ Phân Vị\n",
    "\n",
    "## Mục tiêu\n",
    "Thực hành tính độ trải giữa <br/>\n",
    "\n",
    "## Task\n",
    "Độ trải giữa là hiệu số giữa tứ phân vị thứ nhất <b>(Q1)</b> và tứ phân vị thứ ba <b>(Q3)</b> tức là <b>Q3 - Q1</b>.<br/>\n",
    "Cho mảng <b>values</b> có <b>n</b> số nguyên và mảng <b>freqs</b>, biểu diễn tần suất tương ứng của các phân từ trong <b>value</b>, trong một tập dữ liệu <i><b>S</b></i>, trong đó mỗi <i><b>values[i]</b></i> xuất hiện với tần suất <i><b>freqs[i]</b></i>. Sau đó tính và in độ trải giữa của <b>S</b>, làm tròn đến chữ số thập phân nhứ nhất.\n",
    "\n",
    "## Ví dụ\n",
    "<b><i>values</i> = [1, 2, 3] </b><br/>\n",
    "<b><i>freqs</i> = [3, 2, 1] </b><br/>\n",
    "\n",
    "Đưa tần suất vào các giá trị để được mảng mở rộng <b><i>S</i> = [1, 1, 1, 2, 2, 3] </b>. Ở đây <b><i>left</i> = [1, 1, 1]</b>, <b><i>right</i> = [2, 2, 3]</b> <br/>\n",
    "\n",
    "Median <b><i>left</i> = 1</b>, <b><i>left</i> = 2</b>. <b>Q3 - Q1 = 2.0 - 1.0 = 1.0</b>\n",
    "\n",
    "## Định dạng Input\n",
    "Dòng đầu chứa <b>n</b> số nguyên, số phần tử trong mảng <b>values</b> và <b>freqs</b>.\n",
    "Dòng thứ hai chứa <b>n</b> số nguyên phân tách bằng dấu cách mô tả các phần tử của mảng <b>values</b>.\n",
    "Dòng thứ ba chứa <b>n</b> số nguyên phân tách bằng dấu cách mô tả các phần tử của mảng <b>values</b>.\n",
    "\n",
    "### Giải thích\n",
    "\n",
    "| Element | Frequency |\n",
    "| ------- | --------- |\n",
    "| 6 | 5 |\n",
    "| 12 | 4 |\n",
    "| 8 | 3 |\n",
    "| 10 | 2 |\n",
    "| 20 | 1 |\n",
    "| 16 | 5 |\n",
    "\n",
    "Đầu tiên <b><i>S</i> = {6, 6, 6, 6, 6, 12, 12, 12, 12, 8, 8, 8, 10, 10, 20, 16, 16, 16, 16, 16}</b>\n",
    "\n",
    "<b>left (L): 6, 6, 6, 6, 6, 8, 8, 8, 10, 10 </b>\n",
    "\n",
    "<b>right (U): 12, 12, 12, 12, 16, 16, 16, 16, 16, 20</b>\n",
    "\n",
    "<b>Q1 = $\\frac {6 + 8} {2} = 7.0 $ </b> <br/><br/>\n",
    "<b>Q3 = $\\frac {16 + 16} {2} = 16.0 $ </b>\n",
    "\n",
    "Từ đó, chúng ta tính độ trải giữa là <b>Q3 - Q1 = 16.0 - 7.0 = 9.0</b>, Đáp án 9.0 là được làm tròn đến chứ số thập phân thứ nhất"
   ]
  },
  {
   "cell_type": "code",
   "execution_count": 2,
   "id": "4815ee3c",
   "metadata": {},
   "outputs": [],
   "source": [
    "size = 6\n",
    "v = '6 12 8 10 20 16'\n",
    "f = '5 4 3 2 1 5'"
   ]
  },
  {
   "cell_type": "code",
   "execution_count": 15,
   "id": "4f3926a7",
   "metadata": {
    "scrolled": true
   },
   "outputs": [
    {
     "name": "stdout",
     "output_type": "stream",
     "text": [
      "values: [6, 12, 8, 10, 20, 16]\n",
      "freqs: [5, 4, 3, 2, 1, 5]\n",
      "[6, 6, 6, 6, 6, 8, 8, 8, 10, 10, 12, 12, 12, 12, 16, 16, 16, 16, 16, 20]\n"
     ]
    }
   ],
   "source": [
    "values = list(map(int, v.split()))\n",
    "freqs = list(map(int, f.split()))\n",
    "\n",
    "print(f'values: {values}\\nfreqs: {freqs}')\n",
    "\n",
    "def show_array():\n",
    "    import numpy as np\n",
    "    \n",
    "    val = np.array(values)\n",
    "    fre = np.array(freqs)\n",
    "    \n",
    "    arr = np.repeat(val, fre)\n",
    "    \n",
    "    print(sorted(arr.tolist()))\n",
    "    \n",
    "show_array()"
   ]
  },
  {
   "cell_type": "code",
   "execution_count": 5,
   "id": "b9df4c1b",
   "metadata": {
    "scrolled": true
   },
   "outputs": [],
   "source": [
    "def median(arr_number):\n",
    "    arr_number.sort\n",
    "    n = len(arr_number)\n",
    "    \n",
    "    median = 0\n",
    "    if n % 2 == 0:\n",
    "        median = (arr_number[n // 2 - 1] + arr_number[n // 2]) / 2\n",
    "    else:\n",
    "        median = arr_number[(n - 1) // 2]\n",
    "        \n",
    "    return median"
   ]
  },
  {
   "cell_type": "code",
   "execution_count": 16,
   "id": "d67e4840",
   "metadata": {},
   "outputs": [
    {
     "name": "stdout",
     "output_type": "stream",
     "text": [
      "9.0\n"
     ]
    }
   ],
   "source": [
    "import numpy as np\n",
    "\n",
    "def interquartile(values, freqs):\n",
    "    \n",
    "    val = np.array(values)\n",
    "    fre = np.array(freqs)\n",
    "    \n",
    "    arr = np.repeat(val, fre)\n",
    "    arr = sorted(arr.tolist())\n",
    "    \n",
    "    n = len(arr)\n",
    "    \n",
    "    if n % 2 == 0:\n",
    "        low = median(arr[: n // 2])\n",
    "        up = median(arr[n // 2 :])\n",
    "        \n",
    "        return round(up - low,  1)\n",
    "    else:\n",
    "        low = median(arr[: (n - 1) // 2])\n",
    "        up = median(arr[(n - 1) // 2 + 1:])\n",
    "        \n",
    "        return round(up - low, 1)\n",
    "    \n",
    "print(interquartile(values, freqs))"
   ]
  }
 ],
 "metadata": {
  "kernelspec": {
   "display_name": "Python 3 (ipykernel)",
   "language": "python",
   "name": "python3"
  },
  "language_info": {
   "codemirror_mode": {
    "name": "ipython",
    "version": 3
   },
   "file_extension": ".py",
   "mimetype": "text/x-python",
   "name": "python",
   "nbconvert_exporter": "python",
   "pygments_lexer": "ipython3",
   "version": "3.11.5"
  }
 },
 "nbformat": 4,
 "nbformat_minor": 5
}
