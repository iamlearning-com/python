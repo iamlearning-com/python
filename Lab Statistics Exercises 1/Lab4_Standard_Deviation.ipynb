{
 "cells": [
  {
   "cell_type": "markdown",
   "id": "a8860287",
   "metadata": {},
   "source": [
    "## Mục tiêu\n",
    "Thực hành tính độ lệch chuẩn\n",
    "\n",
    "## Task\n",
    "\n",
    "Cho mảng <b><i>arr</i></b>, có <b><i>n</i></b> số nguyên, hãy tính và in độ lệch chuẩn. Đáp án của bạn cần làm tròn đến chữ số thập phân thứ nhất (chẳng hạn:  12.3). Phạm vi sai số cho phép của độ lệch chuẩn là 0.1 và -0.1.\n",
    "\n",
    "## Ví dụ\n",
    "\n",
    "<b><i>arr</i> = [2, 5, 2, 7, 4]</b>\n",
    "Tổng các giá trị của mảng là 20 và có 5 phần tử. Mean là 4.0. <br/>\n",
    "Lấy mỗi phần tử trừ đi mean, bình phương kết quả được tổng của chúng.\n",
    "\n",
    "$(2 - 4)^2$ = 4 <br/>\n",
    "$(5 - 4)^2$ = 1 <br/>\n",
    "$(2 - 4)^2$ = 4 <br/>\n",
    "$(7 - 4)^2$ = 9 <br/>\n",
    "$(4 - 4)^2$ = 0 <br/>\n",
    "\n",
    "Tổng là 18. Lấy căn bậc hai của $\\frac{18} {5}$ được độ lệch chuẩn là <b>1.7</b> <br/>\n",
    "\n",
    "## Mẫu Input\n",
    "5 <br/>\n",
    "10 40 30 50 20\n",
    "\n",
    "## Mẫu Output\n",
    "14.1"
   ]
  },
  {
   "cell_type": "markdown",
   "id": "fa49a5f2",
   "metadata": {},
   "source": [
    "## Công thức tính độ lệch chuẩn\n",
    "\n",
    "$$\\sigma = \\sqrt{\\frac{\\sum{(x_i - \\mu)}^2} {N}}  $$"
   ]
  },
  {
   "cell_type": "code",
   "execution_count": 27,
   "id": "fc94092a",
   "metadata": {},
   "outputs": [
    {
     "name": "stdout",
     "output_type": "stream",
     "text": [
      "n: 5\n",
      "arr: [10, 40, 30, 50, 20]\n"
     ]
    }
   ],
   "source": [
    "n = 5\n",
    "vals = '10 40 30 50 20'\n",
    "\n",
    "def show_data(num):\n",
    "    arr = list(map(int, vals.split()))\n",
    "    return arr\n",
    "\n",
    "arr = show_data(vals)\n",
    "print(f'n: {n}\\narr: {arr}')"
   ]
  },
  {
   "cell_type": "code",
   "execution_count": 28,
   "id": "6c9ab5af",
   "metadata": {},
   "outputs": [
    {
     "name": "stdout",
     "output_type": "stream",
     "text": [
      "30.0\n"
     ]
    }
   ],
   "source": [
    "def mean(num):\n",
    "\n",
    "    return sum(num) / n\n",
    "\n",
    "mean = mean(arr)\n",
    "print(mean)"
   ]
  },
  {
   "cell_type": "code",
   "execution_count": 38,
   "id": "d45b057e",
   "metadata": {
    "scrolled": true
   },
   "outputs": [
    {
     "name": "stdout",
     "output_type": "stream",
     "text": [
      "14.1\n"
     ]
    }
   ],
   "source": [
    "def standard_deviation(num, u):\n",
    "    numerator = sum([pow(xi - mean, 2) for xi in arr]) / n\n",
    "    return round(numerator ** 0.5, 1)\n",
    "\n",
    "print(standard_deviation(arr, mean))"
   ]
  }
 ],
 "metadata": {
  "kernelspec": {
   "display_name": "Python 3 (ipykernel)",
   "language": "python",
   "name": "python3"
  },
  "language_info": {
   "codemirror_mode": {
    "name": "ipython",
    "version": 3
   },
   "file_extension": ".py",
   "mimetype": "text/x-python",
   "name": "python",
   "nbconvert_exporter": "python",
   "pygments_lexer": "ipython3",
   "version": "3.11.5"
  }
 },
 "nbformat": 4,
 "nbformat_minor": 5
}
