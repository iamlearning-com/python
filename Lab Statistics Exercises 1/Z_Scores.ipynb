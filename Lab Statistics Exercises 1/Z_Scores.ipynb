{
 "cells": [
  {
   "cell_type": "code",
   "execution_count": 18,
   "id": "f60bd4b3",
   "metadata": {},
   "outputs": [],
   "source": [
    "mean = 0.675 # met\n",
    "sd = 0.065 # met\n",
    "x = 90.25 / 100"
   ]
  },
  {
   "cell_type": "code",
   "execution_count": 26,
   "id": "848810e3",
   "metadata": {},
   "outputs": [
    {
     "name": "stdout",
     "output_type": "stream",
     "text": [
      "3.5\n"
     ]
    }
   ],
   "source": [
    "z = (x - mean) / sd\n",
    "\n",
    "print(round(z, 2))"
   ]
  },
  {
   "cell_type": "code",
   "execution_count": 1,
   "id": "e86d22d6",
   "metadata": {},
   "outputs": [
    {
     "name": "stdout",
     "output_type": "stream",
     "text": [
      "5.0\n"
     ]
    }
   ],
   "source": [
    "sigma_x = 3\n",
    "sigma_y = 4\n",
    "\n",
    "sigma_xy = (pow(sigma_x, 2) + pow(sigma_y, 2)) ** 0.5\n",
    "\n",
    "print(sigma_xy)"
   ]
  }
 ],
 "metadata": {
  "kernelspec": {
   "display_name": "Python 3 (ipykernel)",
   "language": "python",
   "name": "python3"
  },
  "language_info": {
   "codemirror_mode": {
    "name": "ipython",
    "version": 3
   },
   "file_extension": ".py",
   "mimetype": "text/x-python",
   "name": "python",
   "nbconvert_exporter": "python",
   "pygments_lexer": "ipython3",
   "version": "3.11.5"
  }
 },
 "nbformat": 4,
 "nbformat_minor": 5
}
