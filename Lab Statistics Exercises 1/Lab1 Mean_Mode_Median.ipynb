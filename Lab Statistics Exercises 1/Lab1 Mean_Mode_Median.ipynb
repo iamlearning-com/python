{
 "cells": [
  {
   "cell_type": "markdown",
   "id": "eeed32c2",
   "metadata": {},
   "source": [
    "## Tính giá trị Mean, Mode, Median\n",
    "\n",
    "<b>Task</b>\n",
    "Cho một mảng <b>X</b>,<b>N</b> có số nguyên, hãy tính và in ra <b>mean, median và mode</b> tương ứng trên các dòng riêng biệt. Nếu mảng chứa nhiều hơn một giá trị mốt, hãy chọn giá trị nhỏ nhất về mặt số.\n",
    "\n",
    "Đáp án của bạn phải ở dạng thập phân, làm tròn đến số thập phân thứ nhất\n",
    "\n",
    "<b>Định dạng Input<b/>\n",
    "\n",
    "Dòng đầu tiên chứa <b>N</b> số nguyên , số phần tử trong mảng. <br/>\n",
    "Dòng thứ hai chứa <b>N</b> số nguyên được phân tách bằng dấu cách mô tả các phần tử của mảng.\n",
    "\n",
    "In ra 3 dòng output theo thứ tự sau:\n",
    "\n",
    "1. In ra mean ở dòng đầu, làm tròn đến chữ số thập phân thứ nhất (chẳng hạn: 12.3, 7.0).\n",
    "2. In ra median ở dòng mới, làm tròn đến chữ số thập phân thứ nhất (chẳng hạn: 12.3, 7.0).\n",
    "3. In ra mode ở dòng mới. Nếu có nhiều hơn một giá trị, hãy in ra giá trị số nhỏ nhất."
   ]
  },
  {
   "cell_type": "markdown",
   "id": "abe56241",
   "metadata": {},
   "source": [
    "\\begin{equation*}\n",
    "\\bar{x}(Mean) = \\frac{\\sum{x_i}} {n}\n",
    "\\end{equation*}\n",
    "\n",
    "N = 6 <br/>\n",
    "X = [1,2,3,4,5,5]\n",
    "\n",
    "\\begin{equation*}\n",
    "\\bar{x} = \\frac{1 + 2 + 3 + 4 + 5 + 5} {6} = \\frac{20} {6} = 3.3\n",
    "\\end{equation*}"
   ]
  },
  {
   "cell_type": "markdown",
   "id": "479dfd8a",
   "metadata": {},
   "source": [
    "### Mẫu Input\n",
    "\n",
    "10 <br/>\n",
    "64630 11735 14216 99233 14470 4978 73429 38120 51135 67060"
   ]
  },
  {
   "cell_type": "markdown",
   "id": "88c50a58",
   "metadata": {},
   "source": [
    "### Mẫu Output\n",
    "43900.6 <br/>\n",
    "44627.5 <br/>\n",
    "4978"
   ]
  },
  {
   "cell_type": "code",
   "execution_count": 23,
   "id": "d3edcb51",
   "metadata": {},
   "outputs": [],
   "source": [
    "x = '64630 11735 14216 99233 14470 4978 73429 38120 51135 67060'\n",
    "arr = list(map(int, x.split()))\n",
    "n = len(arr)"
   ]
  },
  {
   "cell_type": "code",
   "execution_count": 24,
   "id": "d7a33a2d",
   "metadata": {},
   "outputs": [],
   "source": [
    "def mean(arr, n):\n",
    "    return sum(arr)/n\n",
    "\n",
    "\n",
    "def median(arr, n):\n",
    "    arr.sort()\n",
    "    return (arr[n // 2 - 1] + arr[n // 2]) / 2 if n % 2 == 0 else arr[(n - 1) / 2]\n",
    "\n",
    "\n",
    "def mode(arr):\n",
    "    mode_value = {}\n",
    "    max_value = 0\n",
    "    \n",
    "    for i in arr:\n",
    "        if i not in mode_value:\n",
    "            mode_value[i] = 1\n",
    "        else:\n",
    "            mode_value[i] += 1\n",
    "            \n",
    "        if mode_value[i] > max_value:\n",
    "            max_value = mode_value[i]\n",
    "        \n",
    "    return min({k:v for k, v in mode_value.items()})"
   ]
  },
  {
   "cell_type": "code",
   "execution_count": 25,
   "id": "808d10e7",
   "metadata": {},
   "outputs": [
    {
     "name": "stdout",
     "output_type": "stream",
     "text": [
      "43900.6\n",
      "44627.5\n",
      "4978\n"
     ]
    }
   ],
   "source": [
    "print(mean(arr, n))\n",
    "print(median(arr, n))\n",
    "print(mode(arr))"
   ]
  }
 ],
 "metadata": {
  "kernelspec": {
   "display_name": "Python 3 (ipykernel)",
   "language": "python",
   "name": "python3"
  },
  "language_info": {
   "codemirror_mode": {
    "name": "ipython",
    "version": 3
   },
   "file_extension": ".py",
   "mimetype": "text/x-python",
   "name": "python",
   "nbconvert_exporter": "python",
   "pygments_lexer": "ipython3",
   "version": "3.11.5"
  }
 },
 "nbformat": 4,
 "nbformat_minor": 5
}
