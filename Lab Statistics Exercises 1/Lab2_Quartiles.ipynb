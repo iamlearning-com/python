{
 "cells": [
  {
   "cell_type": "markdown",
   "id": "8d126b0e",
   "metadata": {},
   "source": [
    "## Task\n",
    "Cho mảng <b>arr</b>, có <b>n</b> số nguyên, hãy tính lần lượt tứ phân vị thứ nhất (<b>Q1</b>), tứ phân vị thứ hai (<b>Q2</b>) và tứ phân vị thứ ba (<b>Q3</b>). Hãy đảm bảo rằng <b>Q1</b>, <b>Q2</b>, <b>Q3</b> là các số nguyên.\n",
    "\n",
    "### Ví dụ\n",
    "\n",
    "<b><i>arr</i> = [9, 5, 7, 1, 3]</b> <br/><br/> \n",
    "Mảng đã sắp xếp <b>[1, 3, 5, 7, 9]</b> có số lẻ các phần tử. Nửa trước <b>[1, 3]</b> chứa , và median của nó là $\\frac{1 + 3} {2} = 2$ . Phần tử trung gian là <b>5</b> và biểu diễn tứ phân vị thứ hai. Nửa sau là <b>[5, 7]</b> và median của nó là $\\frac{5 + 7} {2} = 8$. Trả về <b>[2, 5, 8]</b>. <br/>\n",
    "<hr/>\n",
    "<b><i>arr</i> = [1, 3, 5, 7]</b> <br/>\n",
    "Mảng đã được sắp xếp. Nửa trước là <b>[1, 3]</b> với median = $\\frac{1 + 3} {2} = 2$. Median của toàn mảng là $\\frac{3 + 5} {2} = 4$ và của nửa sau là $\\frac{5 + 7} {2} = 6$. Trả về <b>[2, 4, 6]</b> <br/>\n",
    "\n",
    "### Mô tả hàm\n",
    "\n",
    "Quartiles có các tham số sau: \n",
    "- int arr[n]: các giá trị tách rời\n",
    "\n",
    "### Trả về\n",
    "\n",
    "int[3]: median của nửa trái của <b><i>arr</i></b>, <b><i>arr</i></b> tổng và nửa phải của <b><i>arr</i></b>.\n",
    "\n",
    "### Định dạng Input\n",
    "\n",
    "Dòng đầu chứa số nguyên <b><i>n</i></b>, số phần tử trong <b><i>arr</i></b>.\n",
    "Dòng thứ hai chứa <b><i>n</i></b> số nguyên được phân tách bằng dấu cách, mỗi cái là một <b><i>arr[i]</i></b>."
   ]
  },
  {
   "cell_type": "markdown",
   "id": "e34ac6b3",
   "metadata": {},
   "source": [
    "#### Mẫu Input\n",
    "\n",
    "| STDIN | Function |\n",
    "| ----- | -------- |\n",
    "| 9 | arr[] size n = 9 |\n",
    "| 3 7 8 5 12 14 21 13 18 | arr = [3, 7, 8, 5, 12, 14, 21, 13, 18] |"
   ]
  },
  {
   "cell_type": "markdown",
   "id": "0b62e147",
   "metadata": {},
   "source": [
    "#### Mẫu Output\n",
    "\n",
    "| Output |\n",
    "| ------ |\n",
    "| 6 |\n",
    "| 12 |\n",
    "| 16 | "
   ]
  },
  {
   "cell_type": "code",
   "execution_count": 1,
   "id": "29e451a8",
   "metadata": {
    "scrolled": true
   },
   "outputs": [
    {
     "name": "stdout",
     "output_type": "stream",
     "text": [
      "n = 12\n",
      "Mảng n số = [3, 4, 4, 4, 7, 10, 12, 12, 14, 16, 17, 18]\n"
     ]
    }
   ],
   "source": [
    "x = '4 17 7 14 18 12 3 16 10 4 4 12'\n",
    "arr = list(map(int, x.split()))\n",
    "n = len(arr)\n",
    "arr.sort()\n",
    "\n",
    "print(\"n =\", n)\n",
    "print(\"Mảng n số =\", arr)"
   ]
  },
  {
   "cell_type": "code",
   "execution_count": 4,
   "id": "25fd5fa4",
   "metadata": {},
   "outputs": [
    {
     "name": "stdout",
     "output_type": "stream",
     "text": [
      "Q1: 4\n",
      "Q2: 11\n",
      "Q3: 15\n"
     ]
    }
   ],
   "source": [
    "def quartiles(n, arr):\n",
    "\n",
    "    if n % 2 == 0:\n",
    "        lower = arr[:n // 2]\n",
    "        upper = arr[n // 2:]\n",
    "\n",
    "        q2 = (arr[n // 2 - 1] + arr[n // 2]) // 2\n",
    "    else:\n",
    "        lower = arr[:(n - 1) // 2]\n",
    "        upper = arr[(n - 1) // 2 + 1:]\n",
    "        q2 = arr[(n - 1) // 2]\n",
    "\n",
    "    q1 = (lower[len(lower) // 2 - 1] + lower[len(lower) // 2]) // 2 if len(lower) % 2 == 0 else lower[len(lower) // 2]\n",
    "    q3 = (upper[len(upper) // 2 - 1] + upper[len(upper) // 2]) // 2 if len(upper) % 2 == 0 else upper[len(upper) // 2]\n",
    "\n",
    "    return [q1, q2, q3]\n",
    "\n",
    "result = quartiles(n, arr)\n",
    "\n",
    "print(f'Q1: {result[0]}\\nQ2: {result[1]}\\nQ3: {result[2]}')"
   ]
  }
 ],
 "metadata": {
  "kernelspec": {
   "display_name": "Python 3 (ipykernel)",
   "language": "python",
   "name": "python3"
  },
  "language_info": {
   "codemirror_mode": {
    "name": "ipython",
    "version": 3
   },
   "file_extension": ".py",
   "mimetype": "text/x-python",
   "name": "python",
   "nbconvert_exporter": "python",
   "pygments_lexer": "ipython3",
   "version": "3.11.5"
  },
  "widgets": {
   "application/vnd.jupyter.widget-state+json": {
    "state": {},
    "version_major": 2,
    "version_minor": 0
   }
  }
 },
 "nbformat": 4,
 "nbformat_minor": 5
}
