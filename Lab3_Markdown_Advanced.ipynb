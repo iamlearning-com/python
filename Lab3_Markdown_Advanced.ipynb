{
 "cells": [
  {
   "cell_type": "markdown",
   "id": "c522bc05",
   "metadata": {},
   "source": [
    "# Markdown Advanced"
   ]
  },
  {
   "cell_type": "markdown",
   "id": "f0cc22a1",
   "metadata": {},
   "source": [
    "| No | User name | Password | Descripton |\n",
    "| -- | -------- | -------- | ---------- |\n",
    "| 0 | quochuyp2OO4 | @Abcd1234 | Administrator |"
   ]
  },
  {
   "cell_type": "markdown",
   "id": "f6c5a81d",
   "metadata": {},
   "source": [
    "# Header 1\n",
    "\n",
    "Link : <a href=\"http://youtube.com/\">Youtube<a/>"
   ]
  },
  {
   "cell_type": "markdown",
   "id": "18570a41",
   "metadata": {},
   "source": [
    "# Create table three column and four row"
   ]
  },
  {
   "cell_type": "markdown",
   "id": "db238a63",
   "metadata": {},
   "source": [
    "<table>\n",
    "    <tr>\n",
    "        <th>Column 1</th>\n",
    "        <th>Column 2</th>\n",
    "        <th>Column 3</th>\n",
    "    </tr>\n",
    "    <tr>\n",
    "        <td>1</td>\n",
    "        <td>2</td>\n",
    "        <td>3</td>\n",
    "    </tr>\n",
    "    <tr>\n",
    "        <td>4</td>\n",
    "        <td>6</td>\n",
    "        <td>6</td>\n",
    "    </tr>\n",
    "    <tr>\n",
    "        <td>7</td>\n",
    "        <td>8</td>\n",
    "        <td>9</td>\n",
    "    </tr>\n",
    "</table>"
   ]
  }
 ],
 "metadata": {
  "kernelspec": {
   "display_name": "Python 3 (ipykernel)",
   "language": "python",
   "name": "python3"
  },
  "language_info": {
   "codemirror_mode": {
    "name": "ipython",
    "version": 3
   },
   "file_extension": ".py",
   "mimetype": "text/x-python",
   "name": "python",
   "nbconvert_exporter": "python",
   "pygments_lexer": "ipython3",
   "version": "3.11.5"
  }
 },
 "nbformat": 4,
 "nbformat_minor": 5
}
