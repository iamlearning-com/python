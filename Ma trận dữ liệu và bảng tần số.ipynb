{
 "cells": [
  {
   "cell_type": "markdown",
   "id": "30a3207c",
   "metadata": {},
   "source": [
    "# Ma trận dữ liệu và bảng tần số\n",
    "\n",
    "Trong thực hiện nghiên cứu: \n",
    "- Dữ liệu:\n",
    "     - Variables: là những đặc điểm bạn quan tâm\n",
    "     - Cases: là con người, con vật, hay thứ mà bạn đang quan sát.\n",
    "<br/>\n",
    "<br/>\n",
    " - Cách sắp xếp và trình bày quan sát: Một cuộc thi đấu bóng rổ <br/>\n",
    "<img src=\"./1.png\" alt=\"Ví dụ biến\">\n",
    "<br/>\n"
   ]
  },
  {
   "cell_type": "markdown",
   "id": "044eb79c",
   "metadata": {},
   "source": [
    "## Các quan sát"
   ]
  },
  {
   "cell_type": "markdown",
   "id": "f902466d",
   "metadata": {},
   "source": [
    "| Ma trận dữ liệu | Tuổi | Chiều cao | Bàn thắng | Team | Màu tóc |\n",
    "| --------------- | ---- | --------- | --------- | ---- | ------- |\n",
    "| Player 1 | 18 | 184 | 0 | A | Đen |\n",
    "| Player 2 | 23 | 180 | 2 | B | Nâu |\n",
    "| Player 3 | 19 | 178 | 5 | A | Vàng |\n",
    "| Player 4 | 21 | 172 | 6 | D | Đen |\n",
    "| Player 5 | 18 | 175 | 8 | C | Đen |\n",
    "| ... |  |  |  |  |  |\n",
    "| Player 120 | 24 | 187 | 4 | A | Đen |\n",
    "\n",
    "Nếu các quan sát được biểu diễn bị thiếu dữ liệu, ta có thể bỏ chúng đi để sau này có thể thực hiện phân tích.\n",
    "<br/>\n",
    "Khi có càng nhiều dữ liệu ta không thể trình bày hết 100 hay 1000 dòng cho người liên quan thấy được. Thay vì đó ta sẽ sử dụng <b>bảng tần suất</b>.\n",
    "\n",
    "- Bảng tần suất chỉ ra giá trị của một biến phân bố theo quan sát.\n",
    "\n",
    " - Công thức tính tỷ lệ: $$Tỷ lệ =  \\frac{ tần suất } { tổng } * 100$$\n",
    "    \n",
    "\n",
    "| Màu tóc | Tần suất | Tỷ lệ (%) |\n",
    "| ------- | -------- | ----- |\n",
    "| Đen | 70 | 58.33 |\n",
    "| Nâu | 23 | 19.17 |\n",
    "| Vàng | 20 | 16.67 |\n",
    "| Khác | 7 | 5.83 |\n",
    "| Tổng | 120 | 100 |\n",
    "\n",
    "- Ví dụ về Bảng tần suất chỉ IQ của đội:\n",
    "Khi ta lập bảng tuần xuất dạng như cân nặng, chiều cao, iq, có nhiều các giá trị khác nhau vì vậy đây không phải là một điều hay. Ta có thể gom nhóm dữ liệu và chia đều cho mỗi giá trị.\n",
    "<img src=\"./2.png\" alt=\"Bảng phân phối tần suất chỉ IQ\">"
   ]
  },
  {
   "cell_type": "code",
   "execution_count": null,
   "id": "11c7adf1",
   "metadata": {},
   "outputs": [],
   "source": []
  }
 ],
 "metadata": {
  "kernelspec": {
   "display_name": "Python 3 (ipykernel)",
   "language": "python",
   "name": "python3"
  },
  "language_info": {
   "codemirror_mode": {
    "name": "ipython",
    "version": 3
   },
   "file_extension": ".py",
   "mimetype": "text/x-python",
   "name": "python",
   "nbconvert_exporter": "python",
   "pygments_lexer": "ipython3",
   "version": "3.11.5"
  }
 },
 "nbformat": 4,
 "nbformat_minor": 5
}
